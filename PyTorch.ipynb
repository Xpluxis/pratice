{
  "nbformat": 4,
  "nbformat_minor": 0,
  "metadata": {
    "colab": {
      "provenance": [],
      "authorship_tag": "ABX9TyMCaGBRQeG53LtiZjqUkWnu",
      "include_colab_link": true
    },
    "kernelspec": {
      "name": "python3",
      "display_name": "Python 3"
    },
    "language_info": {
      "name": "python"
    }
  },
  "cells": [
    {
      "cell_type": "markdown",
      "metadata": {
        "id": "view-in-github",
        "colab_type": "text"
      },
      "source": [
        "<a href=\"https://colab.research.google.com/github/Xpluxis/pratice/blob/main/PyTorch.ipynb\" target=\"_parent\"><img src=\"https://colab.research.google.com/assets/colab-badge.svg\" alt=\"Open In Colab\"/></a>"
      ]
    },
    {
      "cell_type": "code",
      "execution_count": 1,
      "metadata": {
        "colab": {
          "base_uri": "https://localhost:8080/"
        },
        "id": "MBArJyA6W6cl",
        "outputId": "b328c836-0410-4c1c-c5ef-9a3885716655"
      },
      "outputs": [
        {
          "output_type": "stream",
          "name": "stdout",
          "text": [
            "Pandas 資料框：\n",
            "   A   B\n",
            "0  1   6\n",
            "1  2   7\n",
            "2  3   8\n",
            "3  4   9\n",
            "4  5  10\n",
            "\n",
            "NumPy 陣列：\n",
            "[[ 1  6]\n",
            " [ 2  7]\n",
            " [ 3  8]\n",
            " [ 4  9]\n",
            " [ 5 10]]\n",
            "\n",
            "PyTorch 張量：\n",
            "tensor([[ 1,  6],\n",
            "        [ 2,  7],\n",
            "        [ 3,  8],\n",
            "        [ 4,  9],\n",
            "        [ 5, 10]])\n"
          ]
        }
      ],
      "source": [
        "import pandas as pd\n",
        "import numpy as np\n",
        "import torch\n",
        "\n",
        "# 創建一個示例的 Pandas 資料框\n",
        "data = {'A': [1, 2, 3, 4, 5],'B': [6, 7, 8, 9, 10]}\n",
        "df = pd.DataFrame(data)\n",
        "\n",
        "# 將 Pandas 資料框轉換為 NumPy 陣列\n",
        "numpy_array = df.values\n",
        "\n",
        "# 將 NumPy 陣列轉換為 PyTorch 張量\n",
        "torch_tensor = torch.tensor(numpy_array)\n",
        "\n",
        "print(\"Pandas 資料框：\")\n",
        "print(df)\n",
        "print(\"\\nNumPy 陣列：\")\n",
        "print(numpy_array)\n",
        "print(\"\\nPyTorch 張量：\")\n",
        "print(torch_tensor)\n"
      ]
    },
    {
      "cell_type": "markdown",
      "source": [
        "##張量操作"
      ],
      "metadata": {
        "id": "0By-DvuG-rbp"
      }
    },
    {
      "cell_type": "code",
      "source": [
        "import torch\n",
        "\n",
        "# 創建一個張量並進行操作\n",
        "x = torch.tensor([[1, 2, 3], [4, 5, 6]])\n",
        "y = torch.tensor([[7, 8, 9], [10, 11, 12]])\n",
        "z = x + y\n",
        "\n",
        "print(z)\n",
        "\n"
      ],
      "metadata": {
        "colab": {
          "base_uri": "https://localhost:8080/"
        },
        "id": "F_kUdlOP-peM",
        "outputId": "fc7d7b1a-4898-4202-8deb-596d78a7388b"
      },
      "execution_count": 3,
      "outputs": [
        {
          "output_type": "stream",
          "name": "stdout",
          "text": [
            "tensor([[ 8, 10, 12],\n",
            "        [14, 16, 18]])\n"
          ]
        }
      ]
    },
    {
      "cell_type": "markdown",
      "source": [
        "##梯度下降法\n"
      ],
      "metadata": {
        "id": "fdwdRBfk-sxM"
      }
    },
    {
      "cell_type": "code",
      "source": [
        "import torch\n",
        "import torch.optim as optim\n",
        "\n",
        "# 步驟1：初始化變量\n",
        "x = torch.tensor([10.0], requires_grad=True)\n",
        "\n",
        "# 步驟2：定義優化器\n",
        "optimizer = optim.SGD([x], lr=0.1)  # 學習率設為 0.1\n",
        "\n",
        "# 定義停止條件\n",
        "threshold = 1e-10  # 閾值\n",
        "max_iter = 1000  # 最大迭代次數\n",
        "\n",
        "for i in range(max_iter):\n",
        "    # 步驟3：定義損失函數\n",
        "    loss = x**2\n",
        "\n",
        "    # 步驟4：進行優化迭代\n",
        "    optimizer.zero_grad()  # 清零梯度\n",
        "    loss.backward()  # 反向傳播，計算梯度\n",
        "    optimizer.step()  # 更新變量\n",
        "\n",
        "    # 每次迭代後輸出當前的 x 值\n",
        "    print(f\"迭代 {i+1}：x = {x.item()}\")\n",
        "\n",
        "    # 判斷是否收斂\n",
        "    if loss.item() < threshold:\n",
        "        print(\"收斂！\")\n",
        "        break\n"
      ],
      "metadata": {
        "colab": {
          "base_uri": "https://localhost:8080/"
        },
        "id": "U95KPT18-p6T",
        "outputId": "cad7ba9f-14e2-434e-cf5e-483201e9c27a"
      },
      "execution_count": 17,
      "outputs": [
        {
          "output_type": "stream",
          "name": "stdout",
          "text": [
            "迭代 1：x = 8.0\n",
            "迭代 2：x = 6.400000095367432\n",
            "迭代 3：x = 5.119999885559082\n",
            "迭代 4：x = 4.095999717712402\n",
            "迭代 5：x = 3.2767996788024902\n",
            "迭代 6：x = 2.6214396953582764\n",
            "迭代 7：x = 2.097151756286621\n",
            "迭代 8：x = 1.677721381187439\n",
            "迭代 9：x = 1.342177152633667\n",
            "迭代 10：x = 1.0737416744232178\n",
            "迭代 11：x = 0.8589933514595032\n",
            "迭代 12：x = 0.6871947050094604\n",
            "迭代 13：x = 0.5497557520866394\n",
            "迭代 14：x = 0.4398046135902405\n",
            "迭代 15：x = 0.3518436849117279\n",
            "迭代 16：x = 0.2814749479293823\n",
            "迭代 17：x = 0.22517995536327362\n",
            "迭代 18：x = 0.18014396727085114\n",
            "迭代 19：x = 0.14411517977714539\n",
            "迭代 20：x = 0.11529214680194855\n",
            "迭代 21：x = 0.09223371744155884\n",
            "迭代 22：x = 0.07378697395324707\n",
            "迭代 23：x = 0.059029579162597656\n",
            "迭代 24：x = 0.047223664820194244\n",
            "迭代 25：x = 0.037778932601213455\n",
            "迭代 26：x = 0.030223146080970764\n",
            "迭代 27：x = 0.02417851611971855\n",
            "迭代 28：x = 0.0193428136408329\n",
            "迭代 29：x = 0.015474250540137291\n",
            "迭代 30：x = 0.012379400432109833\n",
            "迭代 31：x = 0.009903520345687866\n",
            "迭代 32：x = 0.007922816090285778\n",
            "迭代 33：x = 0.0063382526859641075\n",
            "迭代 34：x = 0.0050706020556390285\n",
            "迭代 35：x = 0.004056481644511223\n",
            "迭代 36：x = 0.003245185362175107\n",
            "迭代 37：x = 0.0025961482897400856\n",
            "迭代 38：x = 0.002076918724924326\n",
            "迭代 39：x = 0.0016615350032225251\n",
            "迭代 40：x = 0.0013292280491441488\n",
            "迭代 41：x = 0.0010633824858814478\n",
            "迭代 42：x = 0.0008507060119882226\n",
            "迭代 43：x = 0.0006805647863075137\n",
            "迭代 44：x = 0.0005444518174044788\n",
            "迭代 45：x = 0.0004355614655651152\n",
            "迭代 46：x = 0.00034844916081056\n",
            "迭代 47：x = 0.0002787593402899802\n",
            "迭代 48：x = 0.00022300747514236718\n",
            "迭代 49：x = 0.00017840598593465984\n",
            "迭代 50：x = 0.00014272479165811092\n",
            "迭代 51：x = 0.00011417983478168026\n",
            "迭代 52：x = 9.134387073572725e-05\n",
            "迭代 53：x = 7.307509804377332e-05\n",
            "迭代 54：x = 5.846007843501866e-05\n",
            "迭代 55：x = 4.6768062020419165e-05\n",
            "迭代 56：x = 3.7414451071526855e-05\n",
            "迭代 57：x = 2.9931561584817246e-05\n",
            "迭代 58：x = 2.3945249267853796e-05\n",
            "迭代 59：x = 1.9156199414283037e-05\n",
            "迭代 60：x = 1.532496025902219e-05\n",
            "迭代 61：x = 1.2259968571015634e-05\n",
            "迭代 62：x = 9.807974493014626e-06\n",
            "迭代 63：x = 7.846379958209582e-06\n",
            "收斂！\n"
          ]
        }
      ]
    },
    {
      "cell_type": "markdown",
      "source": [
        "##神經網路建模"
      ],
      "metadata": {
        "id": "R7ai49JM-s2Y"
      }
    },
    {
      "cell_type": "code",
      "source": [
        "import torch\n",
        "import torch.nn as nn\n",
        "\n",
        "# 定義一個簡單的神經網路模型\n",
        "class SimpleModel(nn.Module):\n",
        "    def __init__(self):\n",
        "        super(SimpleModel, self).__init__()\n",
        "        self.fc = nn.Linear(10, 1)\n",
        "\n",
        "    def forward(self, x):\n",
        "        return self.fc(x)\n",
        "\n",
        "# 創建模型實例\n",
        "model = SimpleModel()\n",
        "\n",
        "# 輸入數據\n",
        "input_data = torch.randn(5, 10)\n",
        "\n",
        "# 模型推斷\n",
        "output = model(input_data)\n",
        "\n",
        "print(output)"
      ],
      "metadata": {
        "colab": {
          "base_uri": "https://localhost:8080/"
        },
        "id": "3o-haO-x-qB5",
        "outputId": "5058130d-af14-48ee-fa45-ae5da3b59d27"
      },
      "execution_count": 9,
      "outputs": [
        {
          "output_type": "stream",
          "name": "stdout",
          "text": [
            "tensor([[ 2.6036e-02],\n",
            "        [ 2.6548e-01],\n",
            "        [ 5.5984e-01],\n",
            "        [ 9.7336e-01],\n",
            "        [-5.8645e-04]], grad_fn=<AddmmBackward0>)\n"
          ]
        }
      ]
    },
    {
      "cell_type": "markdown",
      "source": [
        "##動態計算圖"
      ],
      "metadata": {
        "id": "t6dm6AOl-s_p"
      }
    },
    {
      "cell_type": "code",
      "source": [
        "import torch\n",
        "\n",
        "# 動態計算圖\n",
        "x = torch.tensor(2.0)\n",
        "y = torch.tensor(3.0)\n",
        "z = x * y\n",
        "\n",
        "# 修改變量值\n",
        "x = torch.tensor(4.0)\n",
        "\n",
        "# 重新計算 z\n",
        "z = x * y\n",
        "\n",
        "print(z)\n"
      ],
      "metadata": {
        "colab": {
          "base_uri": "https://localhost:8080/"
        },
        "id": "HOZXgfJy-qHO",
        "outputId": "626c3bc6-561f-4d2c-c498-93c9fc13d426"
      },
      "execution_count": 10,
      "outputs": [
        {
          "output_type": "stream",
          "name": "stdout",
          "text": [
            "tensor(12.)\n"
          ]
        }
      ]
    },
    {
      "cell_type": "markdown",
      "source": [
        "##模型部署"
      ],
      "metadata": {
        "id": "FY6L_IbG-sqd"
      }
    },
    {
      "cell_type": "code",
      "source": [
        "import torch\n",
        "\n",
        "# 定義模型\n",
        "class SimpleModel(torch.nn.Module):\n",
        "    def __init__(self):\n",
        "        super(SimpleModel, self).__init__()\n",
        "        self.fc = torch.nn.Linear(10, 1)\n",
        "\n",
        "    def forward(self, x):\n",
        "        return self.fc(x)\n",
        "\n",
        "# 創建模型實例\n",
        "model = SimpleModel()\n",
        "\n",
        "# 導出模型為 TorchScript 格式\n",
        "traced_model = torch.jit.trace(model, torch.randn(1, 10))\n",
        "traced_model.save(\"traced_model.pt\")\n",
        "\n",
        "# 加載導出的模型\n",
        "loaded_model = torch.jit.load(\"traced_model.pt\")\n",
        "\n",
        "# 輸入數據進行推斷\n",
        "output = loaded_model(torch.randn(1, 10))\n",
        "\n",
        "print(output)\n"
      ],
      "metadata": {
        "colab": {
          "base_uri": "https://localhost:8080/"
        },
        "id": "zP8PhDrW-qNE",
        "outputId": "48504ea1-f3b5-494f-bb72-f0f82af9cd6e"
      },
      "execution_count": 11,
      "outputs": [
        {
          "output_type": "stream",
          "name": "stdout",
          "text": [
            "tensor([[1.4496]], grad_fn=<AddmmBackward0>)\n"
          ]
        }
      ]
    },
    {
      "cell_type": "markdown",
      "source": [
        "##社區和生態系統"
      ],
      "metadata": {
        "id": "w6DgxBYNBVWf"
      }
    },
    {
      "cell_type": "code",
      "source": [
        "import torch\n",
        "import torchvision.transforms as transforms\n",
        "from torchvision import datasets\n",
        "\n",
        "# 使用 TorchVision 加載並預處理數據集\n",
        "transform = transforms.Compose([\n",
        "    transforms.ToTensor(),\n",
        "    transforms.Normalize((0.5,), (0.5,))\n",
        "])\n",
        "\n",
        "trainset = datasets.('~/.pytorch/MNIST_data/', download=True, train=True, transform=transform)\n",
        "trainloader = torch.utils.data.DataLoader(trainset, batch_size=64, shuffle=True)\n",
        "\n",
        "# 遍歷數據集\n",
        "for images, labels in trainloader:\n",
        "    # 在這裡進行模型訓練等操作\n",
        "    pass\n"
      ],
      "metadata": {
        "colab": {
          "base_uri": "https://localhost:8080/"
        },
        "id": "SEWxaUq3BVqq",
        "outputId": "d51dc115-ab00-47e9-e2b1-be50bf398a12"
      },
      "execution_count": 12,
      "outputs": [
        {
          "output_type": "stream",
          "name": "stdout",
          "text": [
            "Downloading http://yann.lecun.com/exdb/mnist/train-images-idx3-ubyte.gz\n",
            "Failed to download (trying next):\n",
            "HTTP Error 503: Service Unavailable\n",
            "\n",
            "Downloading https://ossci-datasets.s3.amazonaws.com/mnist/train-images-idx3-ubyte.gz\n",
            "Downloading https://ossci-datasets.s3.amazonaws.com/mnist/train-images-idx3-ubyte.gz to /root/.pytorch/MNIST_data/MNIST/raw/train-images-idx3-ubyte.gz\n"
          ]
        },
        {
          "output_type": "stream",
          "name": "stderr",
          "text": [
            "100%|██████████| 9912422/9912422 [00:00<00:00, 53107670.04it/s]\n"
          ]
        },
        {
          "output_type": "stream",
          "name": "stdout",
          "text": [
            "Extracting /root/.pytorch/MNIST_data/MNIST/raw/train-images-idx3-ubyte.gz to /root/.pytorch/MNIST_data/MNIST/raw\n",
            "\n",
            "Downloading http://yann.lecun.com/exdb/mnist/train-labels-idx1-ubyte.gz\n",
            "Downloading http://yann.lecun.com/exdb/mnist/train-labels-idx1-ubyte.gz to /root/.pytorch/MNIST_data/MNIST/raw/train-labels-idx1-ubyte.gz\n"
          ]
        },
        {
          "output_type": "stream",
          "name": "stderr",
          "text": [
            "100%|██████████| 28881/28881 [00:00<00:00, 1572884.42it/s]"
          ]
        },
        {
          "output_type": "stream",
          "name": "stdout",
          "text": [
            "Extracting /root/.pytorch/MNIST_data/MNIST/raw/train-labels-idx1-ubyte.gz to /root/.pytorch/MNIST_data/MNIST/raw\n",
            "\n",
            "Downloading http://yann.lecun.com/exdb/mnist/t10k-images-idx3-ubyte.gz\n",
            "Downloading http://yann.lecun.com/exdb/mnist/t10k-images-idx3-ubyte.gz to /root/.pytorch/MNIST_data/MNIST/raw/t10k-images-idx3-ubyte.gz\n"
          ]
        },
        {
          "output_type": "stream",
          "name": "stderr",
          "text": [
            "\n"
          ]
        },
        {
          "output_type": "stream",
          "name": "stdout",
          "text": [
            "Failed to download (trying next):\n",
            "HTTP Error 503: Service Unavailable\n",
            "\n",
            "Downloading https://ossci-datasets.s3.amazonaws.com/mnist/t10k-images-idx3-ubyte.gz\n",
            "Downloading https://ossci-datasets.s3.amazonaws.com/mnist/t10k-images-idx3-ubyte.gz to /root/.pytorch/MNIST_data/MNIST/raw/t10k-images-idx3-ubyte.gz\n"
          ]
        },
        {
          "output_type": "stream",
          "name": "stderr",
          "text": [
            "100%|██████████| 1648877/1648877 [00:00<00:00, 14153086.16it/s]\n"
          ]
        },
        {
          "output_type": "stream",
          "name": "stdout",
          "text": [
            "Extracting /root/.pytorch/MNIST_data/MNIST/raw/t10k-images-idx3-ubyte.gz to /root/.pytorch/MNIST_data/MNIST/raw\n",
            "\n",
            "Downloading http://yann.lecun.com/exdb/mnist/t10k-labels-idx1-ubyte.gz\n",
            "Failed to download (trying next):\n",
            "HTTP Error 503: Service Unavailable\n",
            "\n",
            "Downloading https://ossci-datasets.s3.amazonaws.com/mnist/t10k-labels-idx1-ubyte.gz\n",
            "Downloading https://ossci-datasets.s3.amazonaws.com/mnist/t10k-labels-idx1-ubyte.gz to /root/.pytorch/MNIST_data/MNIST/raw/t10k-labels-idx1-ubyte.gz\n"
          ]
        },
        {
          "output_type": "stream",
          "name": "stderr",
          "text": [
            "100%|██████████| 4542/4542 [00:00<00:00, 3122013.89it/s]\n"
          ]
        },
        {
          "output_type": "stream",
          "name": "stdout",
          "text": [
            "Extracting /root/.pytorch/MNIST_data/MNIST/raw/t10k-labels-idx1-ubyte.gz to /root/.pytorch/MNIST_data/MNIST/raw\n",
            "\n"
          ]
        }
      ]
    },
    {
      "cell_type": "markdown",
      "source": [
        "##mnist訓練"
      ],
      "metadata": {
        "id": "a4cgKk11EncI"
      }
    },
    {
      "cell_type": "code",
      "source": [
        "import torch\n",
        "import torch.nn as nn\n",
        "import torch.optim as optim\n",
        "import torchvision\n",
        "import torchvision.transforms as transforms\n",
        "\n",
        "# 步驟1：準備數據集\n",
        "transform = transforms.Compose([\n",
        "    transforms.ToTensor(),  # 轉換為Tensor\n",
        "    transforms.Normalize((0.5,), (0.5,))  # 正規化\n",
        "])\n",
        "\n",
        "trainset = torchvision.datasets.MNIST(root='./data', train=True, download=True, transform=transform)\n",
        "trainloader = torch.utils.data.DataLoader(trainset, batch_size=64, shuffle=True)\n",
        "\n",
        "# 步驟2：定義神經網絡模型\n",
        "class SimpleNet(nn.Module):\n",
        "    def __init__(self):\n",
        "        super(SimpleNet, self).__init__()\n",
        "        self.fc1 = nn.Linear(28*28, 128)  # 輸入層到隱藏層\n",
        "        self.fc2 = nn.Linear(128, 64)  # 隱藏層到隱藏層\n",
        "        self.fc3 = nn.Linear(64, 10)  # 隱藏層到輸出層\n",
        "        self.relu = nn.ReLU()  # 激活函數\n",
        "\n",
        "    def forward(self, x):\n",
        "        x = x.view(-1, 28*28)  # 將圖像扁平化\n",
        "        x = self.relu(self.fc1(x))  # 輸入數據通過第一層線性變換和激活函數\n",
        "        x = self.relu(self.fc2(x))  # 通過第二層線性變換和激活函數\n",
        "        x = self.fc3(x)  # 通過第三層線性變換\n",
        "        return x\n",
        "\n",
        "# 步驟3：創建模型實例\n",
        "model = SimpleNet()\n",
        "\n",
        "# 步驟4：定義損失函數和優化器\n",
        "criterion = nn.CrossEntropyLoss()  # 使用交叉熵損失函數\n",
        "optimizer = optim.SGD(model.parameters(), lr=0.01, momentum=0.9)  # 使用SGD優化器\n",
        "\n",
        "# 步驟5：訓練模型\n",
        "for epoch in range(5):  # 訓練5個epoch\n",
        "    running_loss = 0.0\n",
        "    for i, data in enumerate(trainloader, 0):\n",
        "        inputs, labels = data\n",
        "        optimizer.zero_grad()\n",
        "        outputs = model(inputs)\n",
        "        loss = criterion(outputs, labels)\n",
        "        loss.backward()\n",
        "        optimizer.step()\n",
        "        running_loss += loss.item()\n",
        "        if i % 100 == 99:\n",
        "            print('[%d, %5d] loss: %.3f' %\n",
        "                  (epoch + 1, i + 1, running_loss / 100))\n",
        "            running_loss = 0.0\n",
        "\n",
        "print('Finished Training')\n"
      ],
      "metadata": {
        "colab": {
          "base_uri": "https://localhost:8080/"
        },
        "id": "dj-zV-gWErA2",
        "outputId": "0bec7fa6-ae76-42fb-fe57-c159d7345657"
      },
      "execution_count": 18,
      "outputs": [
        {
          "output_type": "stream",
          "name": "stdout",
          "text": [
            "Downloading http://yann.lecun.com/exdb/mnist/train-images-idx3-ubyte.gz\n",
            "Downloading http://yann.lecun.com/exdb/mnist/train-images-idx3-ubyte.gz to ./data/MNIST/raw/train-images-idx3-ubyte.gz\n"
          ]
        },
        {
          "output_type": "stream",
          "name": "stderr",
          "text": [
            "100%|██████████| 9912422/9912422 [05:01<00:00, 32851.92it/s]\n"
          ]
        },
        {
          "output_type": "stream",
          "name": "stdout",
          "text": [
            "Extracting ./data/MNIST/raw/train-images-idx3-ubyte.gz to ./data/MNIST/raw\n",
            "\n",
            "Downloading http://yann.lecun.com/exdb/mnist/train-labels-idx1-ubyte.gz\n",
            "Downloading http://yann.lecun.com/exdb/mnist/train-labels-idx1-ubyte.gz to ./data/MNIST/raw/train-labels-idx1-ubyte.gz\n"
          ]
        },
        {
          "output_type": "stream",
          "name": "stderr",
          "text": [
            "100%|██████████| 28881/28881 [00:00<00:00, 851389.47it/s]"
          ]
        },
        {
          "output_type": "stream",
          "name": "stdout",
          "text": [
            "Extracting ./data/MNIST/raw/train-labels-idx1-ubyte.gz to ./data/MNIST/raw\n",
            "\n",
            "Downloading http://yann.lecun.com/exdb/mnist/t10k-images-idx3-ubyte.gz\n"
          ]
        },
        {
          "output_type": "stream",
          "name": "stderr",
          "text": [
            "\n"
          ]
        },
        {
          "output_type": "stream",
          "name": "stdout",
          "text": [
            "Downloading http://yann.lecun.com/exdb/mnist/t10k-images-idx3-ubyte.gz to ./data/MNIST/raw/t10k-images-idx3-ubyte.gz\n"
          ]
        },
        {
          "output_type": "stream",
          "name": "stderr",
          "text": [
            "100%|██████████| 1648877/1648877 [00:50<00:00, 32668.85it/s]\n"
          ]
        },
        {
          "output_type": "stream",
          "name": "stdout",
          "text": [
            "Extracting ./data/MNIST/raw/t10k-images-idx3-ubyte.gz to ./data/MNIST/raw\n",
            "\n",
            "Downloading http://yann.lecun.com/exdb/mnist/t10k-labels-idx1-ubyte.gz\n",
            "Downloading http://yann.lecun.com/exdb/mnist/t10k-labels-idx1-ubyte.gz to ./data/MNIST/raw/t10k-labels-idx1-ubyte.gz\n"
          ]
        },
        {
          "output_type": "stream",
          "name": "stderr",
          "text": [
            "100%|██████████| 4542/4542 [00:00<00:00, 7719014.90it/s]\n"
          ]
        },
        {
          "output_type": "stream",
          "name": "stdout",
          "text": [
            "Extracting ./data/MNIST/raw/t10k-labels-idx1-ubyte.gz to ./data/MNIST/raw\n",
            "\n",
            "[1,   100] loss: 1.428\n",
            "[1,   200] loss: 0.470\n",
            "[1,   300] loss: 0.383\n",
            "[1,   400] loss: 0.358\n",
            "[1,   500] loss: 0.317\n",
            "[1,   600] loss: 0.283\n",
            "[1,   700] loss: 0.274\n",
            "[1,   800] loss: 0.266\n",
            "[1,   900] loss: 0.236\n",
            "[2,   100] loss: 0.203\n",
            "[2,   200] loss: 0.196\n",
            "[2,   300] loss: 0.215\n",
            "[2,   400] loss: 0.181\n",
            "[2,   500] loss: 0.174\n",
            "[2,   600] loss: 0.168\n",
            "[2,   700] loss: 0.171\n",
            "[2,   800] loss: 0.158\n",
            "[2,   900] loss: 0.151\n",
            "[3,   100] loss: 0.125\n",
            "[3,   200] loss: 0.145\n",
            "[3,   300] loss: 0.132\n",
            "[3,   400] loss: 0.127\n",
            "[3,   500] loss: 0.119\n",
            "[3,   600] loss: 0.117\n",
            "[3,   700] loss: 0.142\n",
            "[3,   800] loss: 0.127\n",
            "[3,   900] loss: 0.116\n",
            "[4,   100] loss: 0.105\n",
            "[4,   200] loss: 0.102\n",
            "[4,   300] loss: 0.107\n",
            "[4,   400] loss: 0.098\n",
            "[4,   500] loss: 0.103\n",
            "[4,   600] loss: 0.094\n",
            "[4,   700] loss: 0.093\n",
            "[4,   800] loss: 0.098\n",
            "[4,   900] loss: 0.114\n",
            "[5,   100] loss: 0.090\n",
            "[5,   200] loss: 0.087\n",
            "[5,   300] loss: 0.091\n",
            "[5,   400] loss: 0.083\n",
            "[5,   500] loss: 0.081\n",
            "[5,   600] loss: 0.089\n",
            "[5,   700] loss: 0.089\n",
            "[5,   800] loss: 0.079\n",
            "[5,   900] loss: 0.086\n",
            "Finished Training\n"
          ]
        }
      ]
    },
    {
      "cell_type": "code",
      "source": [
        "# 步驟6：使用測試集評估訓練結果\n",
        "testset = torchvision.datasets.MNIST(root='./data', train=False, download=True, transform=transform)\n",
        "testloader = torch.utils.data.DataLoader(testset, batch_size=64, shuffle=False)\n",
        "\n",
        "correct = 0\n",
        "total = 0\n",
        "with torch.no_grad():\n",
        "    for data in testloader:\n",
        "        images, labels = data\n",
        "        outputs = model(images)\n",
        "        _, predicted = torch.max(outputs.data, 1)\n",
        "        total += labels.size(0)\n",
        "        correct += (predicted == labels).sum().item()\n",
        "\n",
        "print('在10000张测试图片上的准确率为: %d %%' % (100 * correct / total))\n"
      ],
      "metadata": {
        "colab": {
          "base_uri": "https://localhost:8080/"
        },
        "id": "0rkupgJcG3o3",
        "outputId": "92ca8aaa-9e66-438b-a534-189174c1de27"
      },
      "execution_count": 19,
      "outputs": [
        {
          "output_type": "stream",
          "name": "stdout",
          "text": [
            "在10000张测试图片上的准确率为: 96 %\n"
          ]
        }
      ]
    },
    {
      "cell_type": "code",
      "source": [
        "from sklearn.metrics import confusion_matrix\n",
        "import numpy as np\n",
        "import matplotlib.pyplot as plt\n",
        "\n",
        "# 獲取測試集中的所有預測標籤和真實標籤\n",
        "all_predictions = []\n",
        "all_labels = []\n",
        "with torch.no_grad():\n",
        "    for data in testloader:\n",
        "        images, labels = data\n",
        "        outputs = model(images)\n",
        "        _, predicted = torch.max(outputs, 1)\n",
        "        all_predictions.extend(predicted.numpy())\n",
        "        all_labels.extend(labels.numpy())\n",
        "\n",
        "# 計算混淆矩陣\n",
        "conf_matrix = confusion_matrix(all_labels, all_predictions)\n",
        "\n",
        "# 可視化混淆矩陣\n",
        "plt.figure(figsize=(8, 6))\n",
        "plt.imshow(conf_matrix, interpolation='nearest', cmap=plt.cm.Blues)\n",
        "plt.title('混淆矩陣')\n",
        "plt.colorbar()\n",
        "tick_marks = np.arange(10)\n",
        "plt.xticks(tick_marks, np.arange(10))\n",
        "plt.yticks(tick_marks, np.arange(10))\n",
        "plt.xlabel('預測標籤')\n",
        "plt.ylabel('真實標籤')\n",
        "\n",
        "# 在混淆矩陣中顯示數字\n",
        "thresh = conf_matrix.max() / 2.\n",
        "for i in range(conf_matrix.shape[0]):\n",
        "    for j in range(conf_matrix.shape[1]):\n",
        "        plt.text(j, i, format(conf_matrix[i, j], 'd'),\n",
        "                 ha=\"center\", va=\"center\",\n",
        "                 color=\"white\" if conf_matrix[i, j] > thresh else \"black\")\n",
        "\n",
        "plt.tight_layout()\n",
        "plt.show()\n"
      ],
      "metadata": {
        "colab": {
          "base_uri": "https://localhost:8080/",
          "height": 1000
        },
        "id": "kC76wQRsHhjK",
        "outputId": "e6b5449f-7215-43ad-953a-ab3e2cce28e8"
      },
      "execution_count": 20,
      "outputs": [
        {
          "output_type": "stream",
          "name": "stderr",
          "text": [
            "<ipython-input-20-52f2bf02364a>:38: UserWarning: Glyph 38928 (\\N{CJK UNIFIED IDEOGRAPH-9810}) missing from current font.\n",
            "  plt.tight_layout()\n",
            "<ipython-input-20-52f2bf02364a>:38: UserWarning: Glyph 28204 (\\N{CJK UNIFIED IDEOGRAPH-6E2C}) missing from current font.\n",
            "  plt.tight_layout()\n",
            "<ipython-input-20-52f2bf02364a>:38: UserWarning: Glyph 27161 (\\N{CJK UNIFIED IDEOGRAPH-6A19}) missing from current font.\n",
            "  plt.tight_layout()\n",
            "<ipython-input-20-52f2bf02364a>:38: UserWarning: Glyph 31844 (\\N{CJK UNIFIED IDEOGRAPH-7C64}) missing from current font.\n",
            "  plt.tight_layout()\n",
            "<ipython-input-20-52f2bf02364a>:38: UserWarning: Glyph 30495 (\\N{CJK UNIFIED IDEOGRAPH-771F}) missing from current font.\n",
            "  plt.tight_layout()\n",
            "<ipython-input-20-52f2bf02364a>:38: UserWarning: Glyph 23526 (\\N{CJK UNIFIED IDEOGRAPH-5BE6}) missing from current font.\n",
            "  plt.tight_layout()\n",
            "<ipython-input-20-52f2bf02364a>:38: UserWarning: Glyph 28151 (\\N{CJK UNIFIED IDEOGRAPH-6DF7}) missing from current font.\n",
            "  plt.tight_layout()\n",
            "<ipython-input-20-52f2bf02364a>:38: UserWarning: Glyph 28102 (\\N{CJK UNIFIED IDEOGRAPH-6DC6}) missing from current font.\n",
            "  plt.tight_layout()\n",
            "<ipython-input-20-52f2bf02364a>:38: UserWarning: Glyph 30697 (\\N{CJK UNIFIED IDEOGRAPH-77E9}) missing from current font.\n",
            "  plt.tight_layout()\n",
            "<ipython-input-20-52f2bf02364a>:38: UserWarning: Glyph 38499 (\\N{CJK UNIFIED IDEOGRAPH-9663}) missing from current font.\n",
            "  plt.tight_layout()\n",
            "/usr/local/lib/python3.10/dist-packages/IPython/core/pylabtools.py:151: UserWarning: Glyph 30495 (\\N{CJK UNIFIED IDEOGRAPH-771F}) missing from current font.\n",
            "  fig.canvas.print_figure(bytes_io, **kw)\n",
            "/usr/local/lib/python3.10/dist-packages/IPython/core/pylabtools.py:151: UserWarning: Glyph 23526 (\\N{CJK UNIFIED IDEOGRAPH-5BE6}) missing from current font.\n",
            "  fig.canvas.print_figure(bytes_io, **kw)\n",
            "/usr/local/lib/python3.10/dist-packages/IPython/core/pylabtools.py:151: UserWarning: Glyph 27161 (\\N{CJK UNIFIED IDEOGRAPH-6A19}) missing from current font.\n",
            "  fig.canvas.print_figure(bytes_io, **kw)\n",
            "/usr/local/lib/python3.10/dist-packages/IPython/core/pylabtools.py:151: UserWarning: Glyph 31844 (\\N{CJK UNIFIED IDEOGRAPH-7C64}) missing from current font.\n",
            "  fig.canvas.print_figure(bytes_io, **kw)\n",
            "/usr/local/lib/python3.10/dist-packages/IPython/core/pylabtools.py:151: UserWarning: Glyph 28151 (\\N{CJK UNIFIED IDEOGRAPH-6DF7}) missing from current font.\n",
            "  fig.canvas.print_figure(bytes_io, **kw)\n",
            "/usr/local/lib/python3.10/dist-packages/IPython/core/pylabtools.py:151: UserWarning: Glyph 28102 (\\N{CJK UNIFIED IDEOGRAPH-6DC6}) missing from current font.\n",
            "  fig.canvas.print_figure(bytes_io, **kw)\n",
            "/usr/local/lib/python3.10/dist-packages/IPython/core/pylabtools.py:151: UserWarning: Glyph 30697 (\\N{CJK UNIFIED IDEOGRAPH-77E9}) missing from current font.\n",
            "  fig.canvas.print_figure(bytes_io, **kw)\n",
            "/usr/local/lib/python3.10/dist-packages/IPython/core/pylabtools.py:151: UserWarning: Glyph 38499 (\\N{CJK UNIFIED IDEOGRAPH-9663}) missing from current font.\n",
            "  fig.canvas.print_figure(bytes_io, **kw)\n",
            "/usr/local/lib/python3.10/dist-packages/IPython/core/pylabtools.py:151: UserWarning: Glyph 38928 (\\N{CJK UNIFIED IDEOGRAPH-9810}) missing from current font.\n",
            "  fig.canvas.print_figure(bytes_io, **kw)\n",
            "/usr/local/lib/python3.10/dist-packages/IPython/core/pylabtools.py:151: UserWarning: Glyph 28204 (\\N{CJK UNIFIED IDEOGRAPH-6E2C}) missing from current font.\n",
            "  fig.canvas.print_figure(bytes_io, **kw)\n"
          ]
        },
        {
          "output_type": "display_data",
          "data": {
            "text/plain": [
              "<Figure size 800x600 with 2 Axes>"
            ],
            "image/png": "[encoded data removed]"
          },
          "metadata": {}
        }
      ]
    }
  ]
}